{
  "nbformat": 4,
  "nbformat_minor": 0,
  "metadata": {
    "colab": {
      "provenance": [],
      "authorship_tag": "ABX9TyMdE8vRnr2o7dW1YPhSRK+Q",
      "include_colab_link": true
    },
    "kernelspec": {
      "name": "python3",
      "display_name": "Python 3"
    },
    "language_info": {
      "name": "python"
    }
  },
  "cells": [
    {
      "cell_type": "markdown",
      "metadata": {
        "id": "view-in-github",
        "colab_type": "text"
      },
      "source": [
        "<a href=\"https://colab.research.google.com/github/simsekergun/RingThicknessPrediction/blob/main/RingThicknessPrediction.ipynb\" target=\"_parent\"><img src=\"https://colab.research.google.com/assets/colab-badge.svg\" alt=\"Open In Colab\"/></a>"
      ]
    },
    {
      "cell_type": "code",
      "execution_count": 1,
      "metadata": {
        "id": "G-P-U4prTCwt"
      },
      "outputs": [],
      "source": [
        "import matplotlib.pyplot as plt\n",
        "import numpy as np\n",
        "import pandas as pd\n",
        "import seaborn as sns\n",
        "from sklearn.linear_model import LinearRegression"
      ]
    },
    {
      "cell_type": "code",
      "source": [
        "XY_train = pd.read_csv('https://raw.githubusercontent.com/simsekergun/RingThicknessPrediction/refs/heads/main/datasets/Greg_DSF_n_mode1.csv', header=None)"
      ],
      "metadata": {
        "id": "HNRwaS_-T3Xz"
      },
      "execution_count": 4,
      "outputs": []
    },
    {
      "cell_type": "code",
      "source": [
        "XY_train.head(5)"
      ],
      "metadata": {
        "colab": {
          "base_uri": "https://localhost:8080/",
          "height": 342
        },
        "id": "5DVQZxNGUAE0",
        "outputId": "40b305b3-fb35-40bf-904e-94ddbc1a412c"
      },
      "execution_count": 5,
      "outputs": [
        {
          "output_type": "execute_result",
          "data": {
            "text/plain": [
              "            0             1       2       3       4       5       6       7    \\\n",
              "0  8.200000e-07  6.850000e-07  1.9467  1.9447  1.9427  1.9407  1.9387  1.9367   \n",
              "1  0.000000e+00  6.900000e-07  1.9473  1.9453  1.9433  1.9413  1.9393  1.9373   \n",
              "2  0.000000e+00  6.950000e-07  1.9478  1.9458  1.9438  1.9419  1.9399  1.9379   \n",
              "3  0.000000e+00  6.980000e-07  1.9481  1.9462  1.9442  1.9422  1.9402  1.9383   \n",
              "4  0.000000e+00  7.000000e-07  1.9484  1.9464  1.9444  1.9424  1.9405  1.9385   \n",
              "\n",
              "      8       9    ...     93      94      95      96      97      98   \\\n",
              "0  1.9347  1.9328  ...  1.7653  1.7633  1.7612  1.7592  1.7572  1.7552   \n",
              "1  1.9354  1.9334  ...  1.7665  1.7644  1.7624  1.7604  1.7584  1.7564   \n",
              "2  1.9360  1.9340  ...  1.7676  1.7656  1.7636  1.7616  1.7596  1.7576   \n",
              "3  1.9363  1.9344  ...  1.7683  1.7663  1.7643  1.7623  1.7603  1.7583   \n",
              "4  1.9366  1.9346  ...  1.7688  1.7667  1.7647  1.7627  1.7607  1.7587   \n",
              "\n",
              "      99      100     101     102  \n",
              "0  1.7532  1.7511  1.7491  1.7471  \n",
              "1  1.7544  1.7523  1.7503  1.7483  \n",
              "2  1.7555  1.7535  1.7515  1.7495  \n",
              "3  1.7562  1.7542  1.7522  1.7502  \n",
              "4  1.7567  1.7547  1.7527  1.7507  \n",
              "\n",
              "[5 rows x 103 columns]"
            ],
            "text/html": [
              "\n",
              "  <div id=\"df-38807cd1-632c-444a-9eb4-32804b39c6db\" class=\"colab-df-container\">\n",
              "    <div>\n",
              "<style scoped>\n",
              "    .dataframe tbody tr th:only-of-type {\n",
              "        vertical-align: middle;\n",
              "    }\n",
              "\n",
              "    .dataframe tbody tr th {\n",
              "        vertical-align: top;\n",
              "    }\n",
              "\n",
              "    .dataframe thead th {\n",
              "        text-align: right;\n",
              "    }\n",
              "</style>\n",
              "<table border=\"1\" class=\"dataframe\">\n",
              "  <thead>\n",
              "    <tr style=\"text-align: right;\">\n",
              "      <th></th>\n",
              "      <th>0</th>\n",
              "      <th>1</th>\n",
              "      <th>2</th>\n",
              "      <th>3</th>\n",
              "      <th>4</th>\n",
              "      <th>5</th>\n",
              "      <th>6</th>\n",
              "      <th>7</th>\n",
              "      <th>8</th>\n",
              "      <th>9</th>\n",
              "      <th>...</th>\n",
              "      <th>93</th>\n",
              "      <th>94</th>\n",
              "      <th>95</th>\n",
              "      <th>96</th>\n",
              "      <th>97</th>\n",
              "      <th>98</th>\n",
              "      <th>99</th>\n",
              "      <th>100</th>\n",
              "      <th>101</th>\n",
              "      <th>102</th>\n",
              "    </tr>\n",
              "  </thead>\n",
              "  <tbody>\n",
              "    <tr>\n",
              "      <th>0</th>\n",
              "      <td>8.200000e-07</td>\n",
              "      <td>6.850000e-07</td>\n",
              "      <td>1.9467</td>\n",
              "      <td>1.9447</td>\n",
              "      <td>1.9427</td>\n",
              "      <td>1.9407</td>\n",
              "      <td>1.9387</td>\n",
              "      <td>1.9367</td>\n",
              "      <td>1.9347</td>\n",
              "      <td>1.9328</td>\n",
              "      <td>...</td>\n",
              "      <td>1.7653</td>\n",
              "      <td>1.7633</td>\n",
              "      <td>1.7612</td>\n",
              "      <td>1.7592</td>\n",
              "      <td>1.7572</td>\n",
              "      <td>1.7552</td>\n",
              "      <td>1.7532</td>\n",
              "      <td>1.7511</td>\n",
              "      <td>1.7491</td>\n",
              "      <td>1.7471</td>\n",
              "    </tr>\n",
              "    <tr>\n",
              "      <th>1</th>\n",
              "      <td>0.000000e+00</td>\n",
              "      <td>6.900000e-07</td>\n",
              "      <td>1.9473</td>\n",
              "      <td>1.9453</td>\n",
              "      <td>1.9433</td>\n",
              "      <td>1.9413</td>\n",
              "      <td>1.9393</td>\n",
              "      <td>1.9373</td>\n",
              "      <td>1.9354</td>\n",
              "      <td>1.9334</td>\n",
              "      <td>...</td>\n",
              "      <td>1.7665</td>\n",
              "      <td>1.7644</td>\n",
              "      <td>1.7624</td>\n",
              "      <td>1.7604</td>\n",
              "      <td>1.7584</td>\n",
              "      <td>1.7564</td>\n",
              "      <td>1.7544</td>\n",
              "      <td>1.7523</td>\n",
              "      <td>1.7503</td>\n",
              "      <td>1.7483</td>\n",
              "    </tr>\n",
              "    <tr>\n",
              "      <th>2</th>\n",
              "      <td>0.000000e+00</td>\n",
              "      <td>6.950000e-07</td>\n",
              "      <td>1.9478</td>\n",
              "      <td>1.9458</td>\n",
              "      <td>1.9438</td>\n",
              "      <td>1.9419</td>\n",
              "      <td>1.9399</td>\n",
              "      <td>1.9379</td>\n",
              "      <td>1.9360</td>\n",
              "      <td>1.9340</td>\n",
              "      <td>...</td>\n",
              "      <td>1.7676</td>\n",
              "      <td>1.7656</td>\n",
              "      <td>1.7636</td>\n",
              "      <td>1.7616</td>\n",
              "      <td>1.7596</td>\n",
              "      <td>1.7576</td>\n",
              "      <td>1.7555</td>\n",
              "      <td>1.7535</td>\n",
              "      <td>1.7515</td>\n",
              "      <td>1.7495</td>\n",
              "    </tr>\n",
              "    <tr>\n",
              "      <th>3</th>\n",
              "      <td>0.000000e+00</td>\n",
              "      <td>6.980000e-07</td>\n",
              "      <td>1.9481</td>\n",
              "      <td>1.9462</td>\n",
              "      <td>1.9442</td>\n",
              "      <td>1.9422</td>\n",
              "      <td>1.9402</td>\n",
              "      <td>1.9383</td>\n",
              "      <td>1.9363</td>\n",
              "      <td>1.9344</td>\n",
              "      <td>...</td>\n",
              "      <td>1.7683</td>\n",
              "      <td>1.7663</td>\n",
              "      <td>1.7643</td>\n",
              "      <td>1.7623</td>\n",
              "      <td>1.7603</td>\n",
              "      <td>1.7583</td>\n",
              "      <td>1.7562</td>\n",
              "      <td>1.7542</td>\n",
              "      <td>1.7522</td>\n",
              "      <td>1.7502</td>\n",
              "    </tr>\n",
              "    <tr>\n",
              "      <th>4</th>\n",
              "      <td>0.000000e+00</td>\n",
              "      <td>7.000000e-07</td>\n",
              "      <td>1.9484</td>\n",
              "      <td>1.9464</td>\n",
              "      <td>1.9444</td>\n",
              "      <td>1.9424</td>\n",
              "      <td>1.9405</td>\n",
              "      <td>1.9385</td>\n",
              "      <td>1.9366</td>\n",
              "      <td>1.9346</td>\n",
              "      <td>...</td>\n",
              "      <td>1.7688</td>\n",
              "      <td>1.7667</td>\n",
              "      <td>1.7647</td>\n",
              "      <td>1.7627</td>\n",
              "      <td>1.7607</td>\n",
              "      <td>1.7587</td>\n",
              "      <td>1.7567</td>\n",
              "      <td>1.7547</td>\n",
              "      <td>1.7527</td>\n",
              "      <td>1.7507</td>\n",
              "    </tr>\n",
              "  </tbody>\n",
              "</table>\n",
              "<p>5 rows × 103 columns</p>\n",
              "</div>\n",
              "    <div class=\"colab-df-buttons\">\n",
              "\n",
              "  <div class=\"colab-df-container\">\n",
              "    <button class=\"colab-df-convert\" onclick=\"convertToInteractive('df-38807cd1-632c-444a-9eb4-32804b39c6db')\"\n",
              "            title=\"Convert this dataframe to an interactive table.\"\n",
              "            style=\"display:none;\">\n",
              "\n",
              "  <svg xmlns=\"http://www.w3.org/2000/svg\" height=\"24px\" viewBox=\"0 -960 960 960\">\n",
              "    <path d=\"M120-120v-720h720v720H120Zm60-500h600v-160H180v160Zm220 220h160v-160H400v160Zm0 220h160v-160H400v160ZM180-400h160v-160H180v160Zm440 0h160v-160H620v160ZM180-180h160v-160H180v160Zm440 0h160v-160H620v160Z\"/>\n",
              "  </svg>\n",
              "    </button>\n",
              "\n",
              "  <style>\n",
              "    .colab-df-container {\n",
              "      display:flex;\n",
              "      gap: 12px;\n",
              "    }\n",
              "\n",
              "    .colab-df-convert {\n",
              "      background-color: #E8F0FE;\n",
              "      border: none;\n",
              "      border-radius: 50%;\n",
              "      cursor: pointer;\n",
              "      display: none;\n",
              "      fill: #1967D2;\n",
              "      height: 32px;\n",
              "      padding: 0 0 0 0;\n",
              "      width: 32px;\n",
              "    }\n",
              "\n",
              "    .colab-df-convert:hover {\n",
              "      background-color: #E2EBFA;\n",
              "      box-shadow: 0px 1px 2px rgba(60, 64, 67, 0.3), 0px 1px 3px 1px rgba(60, 64, 67, 0.15);\n",
              "      fill: #174EA6;\n",
              "    }\n",
              "\n",
              "    .colab-df-buttons div {\n",
              "      margin-bottom: 4px;\n",
              "    }\n",
              "\n",
              "    [theme=dark] .colab-df-convert {\n",
              "      background-color: #3B4455;\n",
              "      fill: #D2E3FC;\n",
              "    }\n",
              "\n",
              "    [theme=dark] .colab-df-convert:hover {\n",
              "      background-color: #434B5C;\n",
              "      box-shadow: 0px 1px 3px 1px rgba(0, 0, 0, 0.15);\n",
              "      filter: drop-shadow(0px 1px 2px rgba(0, 0, 0, 0.3));\n",
              "      fill: #FFFFFF;\n",
              "    }\n",
              "  </style>\n",
              "\n",
              "    <script>\n",
              "      const buttonEl =\n",
              "        document.querySelector('#df-38807cd1-632c-444a-9eb4-32804b39c6db button.colab-df-convert');\n",
              "      buttonEl.style.display =\n",
              "        google.colab.kernel.accessAllowed ? 'block' : 'none';\n",
              "\n",
              "      async function convertToInteractive(key) {\n",
              "        const element = document.querySelector('#df-38807cd1-632c-444a-9eb4-32804b39c6db');\n",
              "        const dataTable =\n",
              "          await google.colab.kernel.invokeFunction('convertToInteractive',\n",
              "                                                    [key], {});\n",
              "        if (!dataTable) return;\n",
              "\n",
              "        const docLinkHtml = 'Like what you see? Visit the ' +\n",
              "          '<a target=\"_blank\" href=https://colab.research.google.com/notebooks/data_table.ipynb>data table notebook</a>'\n",
              "          + ' to learn more about interactive tables.';\n",
              "        element.innerHTML = '';\n",
              "        dataTable['output_type'] = 'display_data';\n",
              "        await google.colab.output.renderOutput(dataTable, element);\n",
              "        const docLink = document.createElement('div');\n",
              "        docLink.innerHTML = docLinkHtml;\n",
              "        element.appendChild(docLink);\n",
              "      }\n",
              "    </script>\n",
              "  </div>\n",
              "\n",
              "\n",
              "    <div id=\"df-29eba8d9-7024-4c6f-b821-5942678c4426\">\n",
              "      <button class=\"colab-df-quickchart\" onclick=\"quickchart('df-29eba8d9-7024-4c6f-b821-5942678c4426')\"\n",
              "                title=\"Suggest charts\"\n",
              "                style=\"display:none;\">\n",
              "\n",
              "<svg xmlns=\"http://www.w3.org/2000/svg\" height=\"24px\"viewBox=\"0 0 24 24\"\n",
              "     width=\"24px\">\n",
              "    <g>\n",
              "        <path d=\"M19 3H5c-1.1 0-2 .9-2 2v14c0 1.1.9 2 2 2h14c1.1 0 2-.9 2-2V5c0-1.1-.9-2-2-2zM9 17H7v-7h2v7zm4 0h-2V7h2v10zm4 0h-2v-4h2v4z\"/>\n",
              "    </g>\n",
              "</svg>\n",
              "      </button>\n",
              "\n",
              "<style>\n",
              "  .colab-df-quickchart {\n",
              "      --bg-color: #E8F0FE;\n",
              "      --fill-color: #1967D2;\n",
              "      --hover-bg-color: #E2EBFA;\n",
              "      --hover-fill-color: #174EA6;\n",
              "      --disabled-fill-color: #AAA;\n",
              "      --disabled-bg-color: #DDD;\n",
              "  }\n",
              "\n",
              "  [theme=dark] .colab-df-quickchart {\n",
              "      --bg-color: #3B4455;\n",
              "      --fill-color: #D2E3FC;\n",
              "      --hover-bg-color: #434B5C;\n",
              "      --hover-fill-color: #FFFFFF;\n",
              "      --disabled-bg-color: #3B4455;\n",
              "      --disabled-fill-color: #666;\n",
              "  }\n",
              "\n",
              "  .colab-df-quickchart {\n",
              "    background-color: var(--bg-color);\n",
              "    border: none;\n",
              "    border-radius: 50%;\n",
              "    cursor: pointer;\n",
              "    display: none;\n",
              "    fill: var(--fill-color);\n",
              "    height: 32px;\n",
              "    padding: 0;\n",
              "    width: 32px;\n",
              "  }\n",
              "\n",
              "  .colab-df-quickchart:hover {\n",
              "    background-color: var(--hover-bg-color);\n",
              "    box-shadow: 0 1px 2px rgba(60, 64, 67, 0.3), 0 1px 3px 1px rgba(60, 64, 67, 0.15);\n",
              "    fill: var(--button-hover-fill-color);\n",
              "  }\n",
              "\n",
              "  .colab-df-quickchart-complete:disabled,\n",
              "  .colab-df-quickchart-complete:disabled:hover {\n",
              "    background-color: var(--disabled-bg-color);\n",
              "    fill: var(--disabled-fill-color);\n",
              "    box-shadow: none;\n",
              "  }\n",
              "\n",
              "  .colab-df-spinner {\n",
              "    border: 2px solid var(--fill-color);\n",
              "    border-color: transparent;\n",
              "    border-bottom-color: var(--fill-color);\n",
              "    animation:\n",
              "      spin 1s steps(1) infinite;\n",
              "  }\n",
              "\n",
              "  @keyframes spin {\n",
              "    0% {\n",
              "      border-color: transparent;\n",
              "      border-bottom-color: var(--fill-color);\n",
              "      border-left-color: var(--fill-color);\n",
              "    }\n",
              "    20% {\n",
              "      border-color: transparent;\n",
              "      border-left-color: var(--fill-color);\n",
              "      border-top-color: var(--fill-color);\n",
              "    }\n",
              "    30% {\n",
              "      border-color: transparent;\n",
              "      border-left-color: var(--fill-color);\n",
              "      border-top-color: var(--fill-color);\n",
              "      border-right-color: var(--fill-color);\n",
              "    }\n",
              "    40% {\n",
              "      border-color: transparent;\n",
              "      border-right-color: var(--fill-color);\n",
              "      border-top-color: var(--fill-color);\n",
              "    }\n",
              "    60% {\n",
              "      border-color: transparent;\n",
              "      border-right-color: var(--fill-color);\n",
              "    }\n",
              "    80% {\n",
              "      border-color: transparent;\n",
              "      border-right-color: var(--fill-color);\n",
              "      border-bottom-color: var(--fill-color);\n",
              "    }\n",
              "    90% {\n",
              "      border-color: transparent;\n",
              "      border-bottom-color: var(--fill-color);\n",
              "    }\n",
              "  }\n",
              "</style>\n",
              "\n",
              "      <script>\n",
              "        async function quickchart(key) {\n",
              "          const quickchartButtonEl =\n",
              "            document.querySelector('#' + key + ' button');\n",
              "          quickchartButtonEl.disabled = true;  // To prevent multiple clicks.\n",
              "          quickchartButtonEl.classList.add('colab-df-spinner');\n",
              "          try {\n",
              "            const charts = await google.colab.kernel.invokeFunction(\n",
              "                'suggestCharts', [key], {});\n",
              "          } catch (error) {\n",
              "            console.error('Error during call to suggestCharts:', error);\n",
              "          }\n",
              "          quickchartButtonEl.classList.remove('colab-df-spinner');\n",
              "          quickchartButtonEl.classList.add('colab-df-quickchart-complete');\n",
              "        }\n",
              "        (() => {\n",
              "          let quickchartButtonEl =\n",
              "            document.querySelector('#df-29eba8d9-7024-4c6f-b821-5942678c4426 button');\n",
              "          quickchartButtonEl.style.display =\n",
              "            google.colab.kernel.accessAllowed ? 'block' : 'none';\n",
              "        })();\n",
              "      </script>\n",
              "    </div>\n",
              "\n",
              "    </div>\n",
              "  </div>\n"
            ],
            "application/vnd.google.colaboratory.intrinsic+json": {
              "type": "dataframe",
              "variable_name": "XY_train"
            }
          },
          "metadata": {},
          "execution_count": 5
        }
      ]
    },
    {
      "cell_type": "code",
      "source": [
        "Y_train = XY_train.iloc[:,1]*1e9\n",
        "print(Y_train)"
      ],
      "metadata": {
        "colab": {
          "base_uri": "https://localhost:8080/"
        },
        "id": "5vTQ3d_UUB44",
        "outputId": "284b0cc8-2d4f-4fe3-cd9a-e2de40d1c860"
      },
      "execution_count": 7,
      "outputs": [
        {
          "output_type": "stream",
          "name": "stdout",
          "text": [
            "0    685.0\n",
            "1    690.0\n",
            "2    695.0\n",
            "3    698.0\n",
            "4    700.0\n",
            "5    702.0\n",
            "6    705.0\n",
            "7    710.0\n",
            "8    715.0\n",
            "Name: 1, dtype: float64\n"
          ]
        }
      ]
    },
    {
      "cell_type": "code",
      "source": [
        "X_train = XY_train.iloc[:,2::]\n",
        "X_train.shape"
      ],
      "metadata": {
        "colab": {
          "base_uri": "https://localhost:8080/"
        },
        "id": "qNdVfgiCUdhW",
        "outputId": "0f6a95c7-c723-4125-b8c2-ca4b6fb1e5e8"
      },
      "execution_count": 14,
      "outputs": [
        {
          "output_type": "execute_result",
          "data": {
            "text/plain": [
              "(9, 101)"
            ]
          },
          "metadata": {},
          "execution_count": 14
        }
      ]
    },
    {
      "cell_type": "code",
      "source": [
        "XY_test = pd.read_csv('https://raw.githubusercontent.com/simsekergun/RingThicknessPrediction/refs/heads/main/datasets/Greg_DSF_Test_mode1.csv', header=None)\n",
        "Y_test = XY_test.iloc[:,1]*1e9\n",
        "X_test = XY_test.iloc[:,2::]"
      ],
      "metadata": {
        "id": "F0MrUwP4UW6a"
      },
      "execution_count": 15,
      "outputs": []
    },
    {
      "cell_type": "code",
      "source": [
        "from sklearn.linear_model import LinearRegression\n",
        "\n",
        "reg = LinearRegression()         # Instantiate\n",
        "reg.fit(X_train, Y_train)        # Fit the train data\n",
        "\n",
        "r2_train_score = reg.score(X_train, Y_train)   # Calculating R^2 score for training\n",
        "print('R^2 score for n-train dataset = ', round(r2_train_score, 4), '\\n')"
      ],
      "metadata": {
        "colab": {
          "base_uri": "https://localhost:8080/"
        },
        "id": "Vf3rSw3bUp6S",
        "outputId": "46a019f4-3dee-4891-c579-81d251214eb8"
      },
      "execution_count": 16,
      "outputs": [
        {
          "output_type": "stream",
          "name": "stdout",
          "text": [
            "R^2 score for n-train dataset =  1.0 \n",
            "\n"
          ]
        }
      ]
    },
    {
      "cell_type": "code",
      "source": [
        "pred_thickness = reg.predict(X_test)\n",
        "print(pred_thickness)"
      ],
      "metadata": {
        "colab": {
          "base_uri": "https://localhost:8080/"
        },
        "id": "L18fVD-1VFoT",
        "outputId": "9e2b0dd6-9674-4457-ed24-20bf6bc0d582"
      },
      "execution_count": 17,
      "outputs": [
        {
          "output_type": "stream",
          "name": "stdout",
          "text": [
            "[680.54462409 687.87142716 699.07365119 703.07931513 711.88838676\n",
            " 719.53906816]\n"
          ]
        }
      ]
    },
    {
      "cell_type": "code",
      "source": [
        "plt.figure(1)\n",
        "plt.scatter(Y_test,pred_thickness)\n",
        "plt.plot([680,720],[680,720],color='r', linestyle='dashed')\n",
        "plt.gca().set_aspect('equal', adjustable='box')\n",
        "plt.xlabel('True Thickness (nm)')\n",
        "plt.ylabel('Predicted Thickness (nm)')\n",
        "plt.show()"
      ],
      "metadata": {
        "colab": {
          "base_uri": "https://localhost:8080/",
          "height": 449
        },
        "id": "SMMVR6FWVFtO",
        "outputId": "aab43624-82ef-445a-bfc3-cff219b531d2"
      },
      "execution_count": 27,
      "outputs": [
        {
          "output_type": "display_data",
          "data": {
            "text/plain": [
              "<Figure size 640x480 with 1 Axes>"
            ],
            "image/png": "[encoded data removed]"
          },
          "metadata": {}
        }
      ]
    },
    {
      "cell_type": "code",
      "source": [
        "error_p = abs(Y_test-pred_thickness)/Y_test*100\n",
        "plt.figure(2)\n",
        "plt.scatter(Y_test-700,error_p)\n",
        "plt.xlabel('Thickness variation (nm)')\n",
        "plt.ylabel('Error (%)')\n",
        "plt.show()"
      ],
      "metadata": {
        "colab": {
          "base_uri": "https://localhost:8080/",
          "height": 449
        },
        "id": "ao4abyy4VFvu",
        "outputId": "4568d9aa-eefd-401e-9b6a-b818a0aae947"
      },
      "execution_count": 25,
      "outputs": [
        {
          "output_type": "display_data",
          "data": {
            "text/plain": [
              "<Figure size 640x480 with 1 Axes>"
            ],
            "image/png": "[encoded data removed]"
          },
          "metadata": {}
        }
      ]
    },
    {
      "cell_type": "code",
      "source": [
        "print(Y_test)"
      ],
      "metadata": {
        "colab": {
          "base_uri": "https://localhost:8080/"
        },
        "id": "uEQCPeL0VFyS",
        "outputId": "901f602a-05ab-463e-88cb-3c32ccc4bd68"
      },
      "execution_count": 28,
      "outputs": [
        {
          "output_type": "stream",
          "name": "stdout",
          "text": [
            "0    681.0\n",
            "1    688.0\n",
            "2    699.0\n",
            "3    703.0\n",
            "4    712.0\n",
            "5    720.0\n",
            "Name: 1, dtype: float64\n"
          ]
        }
      ]
    },
    {
      "cell_type": "code",
      "source": [],
      "metadata": {
        "id": "leGibR9VVF1z"
      },
      "execution_count": null,
      "outputs": []
    },
    {
      "cell_type": "code",
      "source": [],
      "metadata": {
        "id": "xZ4M7CAGVF4Y"
      },
      "execution_count": null,
      "outputs": []
    }
  ]
}